{
 "cells": [
  {
   "cell_type": "code",
   "execution_count": 11,
   "id": "e99b4118",
   "metadata": {},
   "outputs": [
    {
     "name": "stderr",
     "output_type": "stream",
     "text": [
      "C:\\Users\\Admi\\AppData\\Local\\Temp\\ipykernel_7064\\1415527647.py:19: FutureWarning: The default value of regex will change from True to False in a future version. In addition, single character regular expressions will *not* be treated as literal strings when regex=True.\n",
      "  apps[i] = apps[i].str.replace(j,'')\n"
     ]
    },
    {
     "data": {
      "text/plain": [
       "<AxesSubplot:xlabel='Category'>"
      ]
     },
     "execution_count": 11,
     "metadata": {},
     "output_type": "execute_result"
    },
    {
     "data": {
      "image/png": "[encoded data removed]",
      "text/plain": [
       "<Figure size 432x288 with 1 Axes>"
      ]
     },
     "metadata": {
      "needs_background": "light"
     },
     "output_type": "display_data"
    }
   ],
   "source": [
    "import pandas as pd\n",
    "import seaborn as sns\n",
    "apps_with_duplicate = pd.read_csv('google_play_apps.csv')\n",
    "#Dropping duplicate\n",
    "apps = apps_with_duplicate.drop_duplicates()\n",
    "#print total number of apps\n",
    "#n = 5\n",
    "#print(apps.sample(n))\n",
    "#Data cleaning\n",
    "char = [',','$','+']\n",
    "\n",
    "# List of column names to clean\n",
    "col = ['Installs','Price']\n",
    "\n",
    "# Loop for each column\n",
    "for i in col:\n",
    "    # Replace each character with an empty string\n",
    "    for j in char :\n",
    "        apps[i] = apps[i].str.replace(j,'')\n",
    "    # Convert col to numeric\n",
    "    apps[i] = pd.to_numeric(apps[i])\n",
    "num_apps_in_category = apps['Category'].value_counts()\n",
    "sns.barplot(x=num_apps_in_category.index,y=num_apps_in_category.values,data=num_apps_in_category )\n",
    "\n",
    "      "
   ]
  },
  {
   "cell_type": "code",
   "execution_count": null,
   "id": "c3b9807d",
   "metadata": {},
   "outputs": [],
   "source": []
  }
 ],
 "metadata": {
  "kernelspec": {
   "display_name": "Python 3 (ipykernel)",
   "language": "python",
   "name": "python3"
  },
  "language_info": {
   "codemirror_mode": {
    "name": "ipython",
    "version": 3
   },
   "file_extension": ".py",
   "mimetype": "text/x-python",
   "name": "python",
   "nbconvert_exporter": "python",
   "pygments_lexer": "ipython3",
   "version": "3.9.13"
  }
 },
 "nbformat": 4,
 "nbformat_minor": 5
}
