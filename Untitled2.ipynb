{
 "cells": [
  {
   "cell_type": "code",
   "execution_count": 6,
   "id": "d821242d",
   "metadata": {},
   "outputs": [
    {
     "name": "stdout",
     "output_type": "stream",
     "text": [
      "                        App  \\\n",
      "0     10 Best Foods for You   \n",
      "1     10 Best Foods for You   \n",
      "3     10 Best Foods for You   \n",
      "4     10 Best Foods for You   \n",
      "5     10 Best Foods for You   \n",
      "...                     ...   \n",
      "3090          ARY NEWS URDU   \n",
      "3091          ARY NEWS URDU   \n",
      "3092          ARY NEWS URDU   \n",
      "3093          ARY NEWS URDU   \n",
      "3095          ARY NEWS URDU   \n",
      "\n",
      "                                      Translated_Review      sent  \n",
      "0     I like eat delicious food. That's I'm cooking ...  Positive  \n",
      "1       This help eating healthy exercise regular basis  Positive  \n",
      "3            Works great especially going grocery store  Positive  \n",
      "4                                          Best idea us  Positive  \n",
      "5                                              Best way  Positive  \n",
      "...                                                 ...       ...  \n",
      "3090                                           Awesome!  Positive  \n",
      "3091                                             V nice  Positive  \n",
      "3092                                          Excellent  Positive  \n",
      "3093        Headlines videos available previous version   Neutral  \n",
      "3095                                              Worst  Negative  \n",
      "\n",
      "[2000 rows x 3 columns]\n"
     ]
    }
   ],
   "source": [
    "import pandas as pd\n",
    "from afinn import Afinn\n",
    "\n",
    "data = pd.read_csv('user_reviews (1).csv')\n",
    "data = data.iloc[:, 0:2]\n",
    "data = data.dropna()\n",
    "data = data.head(2000)\n",
    "\n",
    "\n",
    "def sa(r):\n",
    "    score = Afinn().score(r)\n",
    "    if (score > 0):\n",
    "        return 'Positive'\n",
    "    elif (score < 0):\n",
    "        return 'Negative'\n",
    "    else:\n",
    "        return 'Neutral'\n",
    "\n",
    "\n",
    "data['sent'] = 'score'\n",
    "\n",
    "data['sent'] = data['Translated_Review'].apply(sa)\n",
    "\n",
    "print(data)\n"
   ]
  },
  {
   "cell_type": "code",
   "execution_count": null,
   "id": "cc5d05a0",
   "metadata": {},
   "outputs": [],
   "source": []
  }
 ],
 "metadata": {
  "kernelspec": {
   "display_name": "Python 3 (ipykernel)",
   "language": "python",
   "name": "python3"
  },
  "language_info": {
   "codemirror_mode": {
    "name": "ipython",
    "version": 3
   },
   "file_extension": ".py",
   "mimetype": "text/x-python",
   "name": "python",
   "nbconvert_exporter": "python",
   "pygments_lexer": "ipython3",
   "version": "3.9.13"
  }
 },
 "nbformat": 4,
 "nbformat_minor": 5
}
