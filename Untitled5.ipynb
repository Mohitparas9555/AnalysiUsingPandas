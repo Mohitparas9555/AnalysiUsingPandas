{
 "cells": [
  {
   "cell_type": "code",
   "execution_count": null,
   "id": "827d27ae",
   "metadata": {},
   "outputs": [],
   "source": [
    "import pandas as pd\n",
    "apps_with_duplicate = pd.read_csv('google_play_apps.csv')\n",
    "#Dropping duplicate\n",
    "apps = apps_with_duplicate.drop_duplicates()\n",
    "#print total number of apps\n",
    "#n = 5\n",
    "#print(apps.sample(n))\n",
    "#Data cleaning\n",
    "char = [',','$','+']\n",
    "\n",
    "# List of column names to clean\n",
    "col = ['Installs','Price']\n",
    "\n",
    "# Loop for each column\n",
    "for i in col:\n",
    "    # Replace each character with an empty string\n",
    "    for j in char :\n",
    "        apps[i] = apps[i].str.replace(j,'')\n",
    "    # Convert col to numeric\n",
    "    apps[i] = pd.to_numeric(apps[i])\n",
    "print(apps[['Installs','Price']]\n"
   ]
  },
  {
   "cell_type": "code",
   "execution_count": 1,
   "id": "3ab2d8a4",
   "metadata": {},
   "outputs": [
    {
     "ename": "NameError",
     "evalue": "name 'apps' is not defined",
     "output_type": "error",
     "traceback": [
      "\u001b[1;31m---------------------------------------------------------------------------\u001b[0m",
      "\u001b[1;31mNameError\u001b[0m                                 Traceback (most recent call last)",
      "Input \u001b[1;32mIn [1]\u001b[0m, in \u001b[0;36m<cell line: 1>\u001b[1;34m()\u001b[0m\n\u001b[1;32m----> 1\u001b[0m num_categories \u001b[38;5;241m=\u001b[39m \u001b[38;5;28mlen\u001b[39m(\u001b[43mapps\u001b[49m[\u001b[38;5;124m'\u001b[39m\u001b[38;5;124mCategory\u001b[39m\u001b[38;5;124m'\u001b[39m]\u001b[38;5;241m.\u001b[39munique())\n\u001b[0;32m      2\u001b[0m \u001b[38;5;28mprint\u001b[39m(\u001b[38;5;124m'\u001b[39m\u001b[38;5;124mNumber of categories = \u001b[39m\u001b[38;5;124m'\u001b[39m, num_categories)\n\u001b[0;32m      4\u001b[0m \u001b[38;5;66;03m# Counting the number of apps in each 'Category' and sort them in descending order\u001b[39;00m\n",
      "\u001b[1;31mNameError\u001b[0m: name 'apps' is not defined"
     ]
    }
   ],
   "source": [
    "num_categories = len(apps['Category'].unique())\n",
    "print('Number of categories = ', num_categories)\n",
    "\n",
    "# Counting the number of apps in each 'Category' and sort them in descending order\n",
    "num_apps_in_category = apps['Category'].value_counts().sort_values(ascending = False)\n",
    "\n",
    "data = [go.Bar(\n",
    "        x = num_apps_in_category.index, # index = category name\n",
    "        y = num_apps_in_category.values, # value = count\n",
    ")]\n",
    "\n",
    "plotly.offline.iplot(data)\n"
   ]
  },
  {
   "cell_type": "code",
   "execution_count": null,
   "id": "1c93f9e9",
   "metadata": {},
   "outputs": [],
   "source": []
  }
 ],
 "metadata": {
  "kernelspec": {
   "display_name": "Python 3 (ipykernel)",
   "language": "python",
   "name": "python3"
  },
  "language_info": {
   "codemirror_mode": {
    "name": "ipython",
    "version": 3
   },
   "file_extension": ".py",
   "mimetype": "text/x-python",
   "name": "python",
   "nbconvert_exporter": "python",
   "pygments_lexer": "ipython3",
   "version": "3.9.13"
  }
 },
 "nbformat": 4,
 "nbformat_minor": 5
}
