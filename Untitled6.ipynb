{
 "cells": [
  {
   "cell_type": "code",
   "execution_count": 1,
   "id": "d5b6295c",
   "metadata": {},
   "outputs": [
    {
     "ename": "SyntaxError",
     "evalue": "invalid syntax (560117280.py, line 25)",
     "output_type": "error",
     "traceback": [
      "\u001b[1;36m  Input \u001b[1;32mIn [1]\u001b[1;36m\u001b[0m\n\u001b[1;33m    data = [go.Bar(\u001b[0m\n\u001b[1;37m    ^\u001b[0m\n\u001b[1;31mSyntaxError\u001b[0m\u001b[1;31m:\u001b[0m invalid syntax\n"
     ]
    }
   ],
   "source": [
    "import pandas as pd\n",
    "import plotly.graph_object as go\n",
    "apps_with_duplicate = pd.read_csv('google_play_apps.csv')\n",
    "#Dropping duplicate\n",
    "apps = apps_with_duplicate.drop_duplicates()\n",
    "#print total number of apps\n",
    "#n = 5\n",
    "\n",
    "\n",
    "#print(apps.sample(n))\n",
    "#Data cleaning\n",
    "char = [',','$','+']\n",
    "\n",
    "# List of column names to clean\n",
    "col = ['Installs','Price']\n",
    "\n",
    "# Loop for each column\n",
    "for i in col:\n",
    "    # Replace each character with an empty string\n",
    "    for j in char :\n",
    "        apps[i] = apps[i].str.replace(j,'')\n",
    "    # Convert col to numeric\n",
    "    apps[i] = pd.to_numeric(apps[i])\n",
    "print(apps[['Installs','Price']]\n",
    "data = [go.Bar(\n",
    "        x = num_apps_in_category.index, # index = category name\n",
    "        y = num_apps_in_category.values, # value = count\n",
    ")]\n",
    "\n",
    "plotly.offline.iplot(data)\n",
    "\n",
    "      "
   ]
  },
  {
   "cell_type": "code",
   "execution_count": null,
   "id": "b145697d",
   "metadata": {},
   "outputs": [],
   "source": []
  }
 ],
 "metadata": {
  "kernelspec": {
   "display_name": "Python 3 (ipykernel)",
   "language": "python",
   "name": "python3"
  },
  "language_info": {
   "codemirror_mode": {
    "name": "ipython",
    "version": 3
   },
   "file_extension": ".py",
   "mimetype": "text/x-python",
   "name": "python",
   "nbconvert_exporter": "python",
   "pygments_lexer": "ipython3",
   "version": "3.9.13"
  }
 },
 "nbformat": 4,
 "nbformat_minor": 5
}
