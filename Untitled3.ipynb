{
 "cells": [
  {
   "cell_type": "code",
   "execution_count": 3,
   "id": "7e93ddf0",
   "metadata": {},
   "outputs": [
    {
     "name": "stdout",
     "output_type": "stream",
     "text": [
      "   S.No  FSO Number First Name Last Name  Store Id Circle   Code  fname  temp\n",
      "1     2  8890763523       G.K.     Gupta     12087     UP  34567     GK  True\n",
      "2     7  7338848678      nihal        SM    -13047     KE -13047  nihal  True\n",
      "7     5  8890763599      rahul     Gupta     12087     IP  34567  rahul  True\n",
      "8     5  8890763523      rahul     Gupta     12087     GH  34567  rahul  True\n"
     ]
    },
    {
     "name": "stderr",
     "output_type": "stream",
     "text": [
      "C:\\Users\\Admi\\AppData\\Local\\Temp\\ipykernel_2360\\3129141107.py:20: FutureWarning: The default value of regex will change from True to False in a future version. In addition, single character regular expressions will *not* be treated as literal strings when regex=True.\n",
      "  df['fname'] = df['fname'].str.replace('.', '')\n"
     ]
    }
   ],
   "source": [
    "import pandas as pd\n",
    "\n",
    "df = pd.read_csv('testing.csv')\n",
    "\n",
    "# FSO Number**********\n",
    "# df['FSO Number']=df['FSO Number'].astype(str)\n",
    "\n",
    "\n",
    "df['temp'] = df['FSO Number'].str.len()\n",
    "df['temp2'] = df['FSO Number'].str.isdigit()\n",
    "df = df.loc[(df.temp == 10) & (df.temp2 == True)]\n",
    "df = df.drop(columns=['temp', 'temp2'])\n",
    "df['FSO Number'] = pd.to_numeric(df['FSO Number'])\n",
    "# *************FSO Number\n",
    "# First Name\n",
    "\n",
    "\n",
    "df['First Name'] = df['First Name'].str.strip()\n",
    "df['fname'] = df['First Name']\n",
    "df['fname'] = df['fname'].str.replace('.', '')\n",
    "df['temp']=df['fname'].str.isalpha()\n",
    "df=df.loc[df.temp==True]\n",
    "\n",
    "\n",
    "\n",
    "print(df)\n"
   ]
  },
  {
   "cell_type": "code",
   "execution_count": null,
   "id": "69732c5a",
   "metadata": {},
   "outputs": [],
   "source": []
  }
 ],
 "metadata": {
  "kernelspec": {
   "display_name": "Python 3 (ipykernel)",
   "language": "python",
   "name": "python3"
  },
  "language_info": {
   "codemirror_mode": {
    "name": "ipython",
    "version": 3
   },
   "file_extension": ".py",
   "mimetype": "text/x-python",
   "name": "python",
   "nbconvert_exporter": "python",
   "pygments_lexer": "ipython3",
   "version": "3.9.13"
  }
 },
 "nbformat": 4,
 "nbformat_minor": 5
}
